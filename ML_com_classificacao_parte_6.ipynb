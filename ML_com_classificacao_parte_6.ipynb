{
  "nbformat": 4,
  "nbformat_minor": 0,
  "metadata": {
    "colab": {
      "name": "ML com classificacao parte 6.ipynb",
      "provenance": [],
      "collapsed_sections": [],
      "authorship_tag": "ABX9TyM0aLFtbE1KhbtilQ+tdACt",
      "include_colab_link": true
    },
    "kernelspec": {
      "name": "python3",
      "display_name": "Python 3"
    },
    "language_info": {
      "name": "python"
    }
  },
  "cells": [
    {
      "cell_type": "markdown",
      "metadata": {
        "id": "view-in-github",
        "colab_type": "text"
      },
      "source": [
        "<a href=\"https://colab.research.google.com/github/Facco-Bruno/Alura-ML/blob/Master/ML_com_classificacao_parte_6.ipynb\" target=\"_parent\"><img src=\"https://colab.research.google.com/assets/colab-badge.svg\" alt=\"Open In Colab\"/></a>"
      ]
    },
    {
      "cell_type": "markdown",
      "metadata": {
        "id": "XS9zdmwBfudD"
      },
      "source": [
        "### Lendo CSV"
      ]
    },
    {
      "cell_type": "code",
      "metadata": {
        "id": "3t_k5YGYe1_0"
      },
      "source": [
        "def carregar_buscas():\n",
        "\n",
        "    X = []\n",
        "    Y = []\n",
        "\n",
        "    arquivo = open('cursos.csv', 'r')\n",
        "    leitor = csv.reader(arquivo)\n",
        "\n",
        "    next(leitor)\n",
        "\n",
        "    for home,busca,logado,comprou in leitor:\n",
        "\n",
        "        dado = ([int(home), busca, int(logado)])\n",
        "        X.append(dado)\n",
        "        Y.append(int(comprou))\n",
        "\n",
        "    return X, Y"
      ],
      "execution_count": 14,
      "outputs": []
    },
    {
      "cell_type": "code",
      "metadata": {
        "id": "whD-IhxYf5oE"
      },
      "source": [
        "X,Y = carregar_buscas()"
      ],
      "execution_count": 15,
      "outputs": []
    },
    {
      "cell_type": "code",
      "metadata": {
        "colab": {
          "base_uri": "https://localhost:8080/"
        },
        "id": "mCDyswyqgsbg",
        "outputId": "d8a5ba55-8bc4-4196-c943-7c2bac5ca0e0"
      },
      "source": [
        "print(X)"
      ],
      "execution_count": 17,
      "outputs": [
        {
          "output_type": "stream",
          "name": "stdout",
          "text": [
            "[[0, 'algoritmos', 1], [0, 'java', 0], [1, 'algoritmos', 0], [1, 'ruby', 1], [1, 'ruby', 0], [0, 'ruby', 1], [0, 'algoritmos', 1], [0, 'ruby', 0], [1, 'algoritmos', 1], [1, 'ruby', 1], [1, 'algoritmos', 1], [1, 'ruby', 1], [0, 'ruby', 1], [0, 'java', 1], [1, 'ruby', 1], [1, 'algoritmos', 0], [0, 'ruby', 1], [1, 'algoritmos', 1], [0, 'ruby', 1], [1, 'ruby', 0], [1, 'algoritmos', 0], [0, 'ruby', 1], [0, 'ruby', 1], [0, 'java', 1], [1, 'ruby', 0], [1, 'algoritmos', 0], [0, 'ruby', 1], [0, 'ruby', 1], [1, 'ruby', 1], [0, 'algoritmos', 0], [1, 'java', 0], [0, 'algoritmos', 1], [0, 'ruby', 0], [1, 'algoritmos', 0], [1, 'ruby', 0], [1, 'ruby', 1], [1, 'java', 1], [1, 'ruby', 1], [0, 'algoritmos', 0], [1, 'java', 1], [1, 'java', 1], [1, 'ruby', 0], [0, 'java', 0], [0, 'ruby', 0], [0, 'algoritmos', 1], [0, 'ruby', 0], [0, 'algoritmos', 0], [1, 'ruby', 1], [0, 'ruby', 0], [1, 'java', 1], [1, 'ruby', 0], [0, 'algoritmos', 1], [0, 'java', 0], [0, 'ruby', 1], [1, 'algoritmos', 0], [0, 'ruby', 1], [1, 'algoritmos', 1], [0, 'algoritmos', 1], [0, 'algoritmos', 0], [0, 'algoritmos', 0], [1, 'ruby', 0], [0, 'ruby', 1], [1, 'java', 0], [0, 'algoritmos', 1], [1, 'ruby', 0], [0, 'ruby', 1], [0, 'ruby', 0], [0, 'algoritmos', 0], [1, 'ruby', 0], [0, 'java', 0], [1, 'ruby', 1], [1, 'java', 1], [1, 'ruby', 1], [0, 'java', 0], [0, 'java', 1], [1, 'ruby', 1], [0, 'java', 0], [0, 'algoritmos', 1], [1, 'ruby', 1], [1, 'algoritmos', 1], [1, 'ruby', 0], [1, 'algoritmos', 1], [1, 'ruby', 0], [0, 'ruby', 1], [1, 'algoritmos', 0], [1, 'ruby', 0], [0, 'algoritmos', 0], [0, 'ruby', 1], [0, 'java', 1], [1, 'ruby', 1], [1, 'java', 0], [1, 'java', 1], [1, 'algoritmos', 0], [1, 'algoritmos', 0], [1, 'algoritmos', 0], [0, 'ruby', 1], [0, 'algoritmos', 0], [0, 'ruby', 0], [0, 'algoritmos', 0], [0, 'java', 1], [1, 'java', 0], [0, 'algoritmos', 0], [1, 'java', 0], [1, 'algoritmos', 0], [1, 'java', 0], [1, 'java', 0], [1, 'algoritmos', 1], [1, 'ruby', 0], [0, 'ruby', 0], [1, 'algoritmos', 0], [1, 'algoritmos', 1], [1, 'algoritmos', 1], [1, 'java', 1], [1, 'algoritmos', 0], [1, 'ruby', 1], [1, 'java', 1], [1, 'java', 1], [1, 'java', 0], [0, 'java', 1], [0, 'algoritmos', 0], [1, 'ruby', 1], [1, 'ruby', 1], [0, 'ruby', 0], [1, 'ruby', 1], [0, 'ruby', 0], [1, 'ruby', 1], [1, 'ruby', 1], [0, 'ruby', 0], [0, 'java', 1], [1, 'java', 0], [0, 'algoritmos', 0], [0, 'java', 0], [0, 'ruby', 1], [1, 'java', 1], [1, 'java', 1], [1, 'ruby', 1], [1, 'algoritmos', 1], [0, 'ruby', 1], [0, 'java', 0], [1, 'java', 1], [0, 'ruby', 0], [1, 'ruby', 0], [0, 'ruby', 1], [0, 'ruby', 1], [0, 'algoritmos', 1], [1, 'java', 1], [0, 'java', 1], [1, 'algoritmos', 0], [1, 'ruby', 1], [1, 'ruby', 0], [1, 'java', 0], [0, 'java', 1], [0, 'algoritmos', 0], [0, 'java', 1], [0, 'java', 0], [1, 'algoritmos', 0], [1, 'java', 0], [1, 'java', 0], [1, 'java', 0], [0, 'java', 1], [1, 'java', 1], [1, 'java', 0], [0, 'ruby', 1], [1, 'ruby', 1], [1, 'ruby', 0], [0, 'algoritmos', 1], [0, 'ruby', 0], [0, 'java', 0], [1, 'algoritmos', 1], [1, 'java', 1], [1, 'ruby', 1], [0, 'algoritmos', 1], [1, 'algoritmos', 0], [0, 'java', 0], [1, 'java', 1], [1, 'algoritmos', 1], [1, 'ruby', 1], [0, 'java', 1], [0, 'algoritmos', 1], [1, 'java', 1], [1, 'java', 1], [0, 'ruby', 0], [1, 'algoritmos', 0], [1, 'ruby', 1], [1, 'algoritmos', 0], [0, 'java', 1], [1, 'ruby', 1], [0, 'algoritmos', 0], [1, 'algoritmos', 1], [0, 'ruby', 0], [0, 'java', 1], [1, 'ruby', 1], [0, 'ruby', 1], [1, 'ruby', 1], [0, 'ruby', 0], [0, 'ruby', 1], [0, 'ruby', 0], [0, 'java', 1], [1, 'algoritmos', 0], [1, 'ruby', 1], [1, 'ruby', 1], [0, 'algoritmos', 0], [0, 'ruby', 0], [0, 'java', 1], [0, 'java', 0], [0, 'algoritmos', 1], [0, 'algoritmos', 0], [1, 'java', 1], [1, 'algoritmos', 1], [0, 'ruby', 0], [1, 'ruby', 1], [0, 'algoritmos', 0], [0, 'algoritmos', 1], [0, 'ruby', 0], [1, 'java', 1], [1, 'java', 1], [0, 'ruby', 1], [0, 'algoritmos', 0], [1, 'java', 0], [0, 'ruby', 1], [0, 'ruby', 0], [0, 'java', 0], [0, 'algoritmos', 0], [1, 'algoritmos', 1], [1, 'algoritmos', 1], [0, 'algoritmos', 1], [0, 'ruby', 0], [0, 'java', 0], [0, 'algoritmos', 0], [0, 'java', 1], [0, 'algoritmos', 0], [0, 'algoritmos', 0], [1, 'java', 0], [0, 'algoritmos', 1], [1, 'ruby', 1], [0, 'ruby', 1], [1, 'java', 1], [1, 'algoritmos', 0], [1, 'java', 1], [1, 'algoritmos', 1], [1, 'algoritmos', 1], [0, 'ruby', 0], [0, 'java', 0], [1, 'ruby', 1], [1, 'java', 0], [0, 'algoritmos', 0], [0, 'algoritmos', 1], [1, 'ruby', 0], [1, 'ruby', 1], [1, 'ruby', 1], [0, 'ruby', 0], [0, 'ruby', 0], [1, 'ruby', 1], [0, 'java', 0], [0, 'java', 0], [0, 'java', 0], [1, 'algoritmos', 1], [0, 'algoritmos', 0], [0, 'ruby', 0], [1, 'ruby', 1], [0, 'java', 0], [1, 'ruby', 1], [1, 'algoritmos', 0], [0, 'algoritmos', 1], [0, 'algoritmos', 0], [0, 'ruby', 1], [1, 'ruby', 1], [0, 'java', 1], [1, 'java', 0], [1, 'java', 1], [1, 'java', 1], [0, 'ruby', 0], [0, 'java', 0], [0, 'algoritmos', 0], [0, 'ruby', 0], [1, 'ruby', 0], [1, 'ruby', 1], [1, 'ruby', 0], [1, 'algoritmos', 0], [0, 'algoritmos', 0], [1, 'ruby', 0], [0, 'java', 1], [0, 'ruby', 0], [1, 'ruby', 0], [1, 'algoritmos', 1], [1, 'ruby', 1], [1, 'ruby', 1], [0, 'algoritmos', 0], [1, 'ruby', 1], [1, 'ruby', 1], [1, 'ruby', 0], [1, 'ruby', 0], [0, 'java', 0], [0, 'java', 1], [1, 'ruby', 1], [0, 'ruby', 1], [1, 'java', 1], [1, 'ruby', 0], [0, 'ruby', 0], [1, 'ruby', 0], [0, 'java', 0], [1, 'java', 0], [1, 'ruby', 1], [1, 'ruby', 1], [1, 'ruby', 0], [0, 'algoritmos', 0], [1, 'algoritmos', 1], [1, 'ruby', 0], [0, 'ruby', 1], [1, 'ruby', 1], [1, 'algoritmos', 1], [1, 'java', 0], [1, 'algoritmos', 0], [0, 'java', 0], [1, 'ruby', 0], [0, 'java', 1], [0, 'java', 0], [1, 'java', 0], [0, 'algoritmos', 1], [1, 'java', 1], [0, 'algoritmos', 1], [0, 'ruby', 0], [0, 'java', 1], [0, 'algoritmos', 0], [0, 'ruby', 0], [0, 'java', 1], [1, 'java', 0], [0, 'java', 1], [1, 'algoritmos', 0], [0, 'java', 1], [1, 'java', 1], [1, 'ruby', 1], [1, 'ruby', 1], [1, 'algoritmos', 0], [0, 'ruby', 1], [0, 'java', 0], [1, 'ruby', 0], [1, 'algoritmos', 0], [0, 'java', 0], [0, 'ruby', 0], [1, 'algoritmos', 1], [1, 'ruby', 1], [0, 'java', 1], [0, 'ruby', 0], [0, 'java', 0], [0, 'java', 1], [1, 'algoritmos', 1], [0, 'ruby', 0], [0, 'java', 1], [0, 'java', 0], [1, 'java', 1], [0, 'algoritmos', 1], [0, 'algoritmos', 1], [1, 'java', 1], [1, 'java', 0], [0, 'java', 1], [0, 'ruby', 0], [0, 'java', 0], [1, 'ruby', 1], [0, 'ruby', 0], [0, 'ruby', 0], [0, 'java', 1], [1, 'java', 1], [1, 'algoritmos', 0], [0, 'java', 1], [1, 'ruby', 0], [1, 'ruby', 1], [0, 'java', 0], [1, 'algoritmos', 0], [0, 'ruby', 1], [1, 'algoritmos', 0], [0, 'java', 0], [1, 'java', 1], [1, 'java', 1], [0, 'algoritmos', 1], [1, 'java', 0], [0, 'java', 0], [1, 'java', 0], [1, 'ruby', 0], [1, 'java', 0], [0, 'java', 1], [1, 'ruby', 1], [0, 'ruby', 1], [0, 'java', 0], [1, 'java', 1], [0, 'ruby', 0], [1, 'algoritmos', 1], [0, 'algoritmos', 1], [0, 'java', 0], [1, 'ruby', 1], [0, 'ruby', 1], [0, 'algoritmos', 0], [1, 'algoritmos', 0], [1, 'ruby', 0], [0, 'ruby', 1], [0, 'java', 1], [0, 'ruby', 1], [1, 'ruby', 1], [0, 'ruby', 1], [0, 'algoritmos', 1], [0, 'ruby', 1], [1, 'algoritmos', 0], [1, 'java', 1], [0, 'ruby', 1], [0, 'java', 0], [0, 'java', 0], [0, 'algoritmos', 0], [1, 'ruby', 1], [1, 'java', 0], [1, 'ruby', 0], [1, 'java', 1], [0, 'java', 0], [0, 'algoritmos', 0], [1, 'algoritmos', 0], [1, 'algoritmos', 1], [1, 'java', 1], [1, 'algoritmos', 1], [1, 'algoritmos', 0], [1, 'ruby', 0], [0, 'java', 0], [1, 'algoritmos', 1], [0, 'java', 1], [0, 'java', 1], [0, 'algoritmos', 1], [0, 'ruby', 1], [0, 'algoritmos', 0], [1, 'algoritmos', 0], [1, 'java', 0], [1, 'ruby', 0], [0, 'algoritmos', 0], [1, 'algoritmos', 0], [1, 'ruby', 0], [1, 'java', 0], [1, 'ruby', 0], [1, 'algoritmos', 1], [1, 'algoritmos', 1], [1, 'algoritmos', 1], [0, 'ruby', 0], [1, 'algoritmos', 1], [0, 'ruby', 1], [1, 'algoritmos', 0], [1, 'java', 0], [0, 'algoritmos', 0], [1, 'java', 1], [1, 'ruby', 0], [0, 'algoritmos', 0], [0, 'algoritmos', 1], [0, 'ruby', 1], [1, 'java', 1], [0, 'algoritmos', 1], [1, 'java', 0], [1, 'algoritmos', 1], [0, 'algoritmos', 1], [1, 'java', 1], [1, 'algoritmos', 1], [0, 'algoritmos', 1], [1, 'ruby', 0], [0, 'ruby', 0], [0, 'algoritmos', 1], [0, 'java', 1], [1, 'ruby', 1], [1, 'java', 1], [1, 'java', 0], [0, 'ruby', 1], [1, 'algoritmos', 1], [0, 'java', 1], [0, 'java', 0], [0, 'java', 0], [0, 'java', 1], [0, 'algoritmos', 1], [1, 'ruby', 1], [1, 'ruby', 0], [1, 'algoritmos', 0], [1, 'java', 0], [1, 'ruby', 1], [0, 'java', 1], [0, 'algoritmos', 1], [0, 'ruby', 1], [0, 'algoritmos', 1], [0, 'algoritmos', 1], [1, 'algoritmos', 1], [1, 'algoritmos', 0], [0, 'ruby', 0], [0, 'algoritmos', 0], [0, 'ruby', 0], [1, 'ruby', 0], [1, 'ruby', 0], [0, 'algoritmos', 1], [0, 'java', 1], [0, 'ruby', 1], [0, 'algoritmos', 1], [0, 'java', 0], [1, 'ruby', 0], [1, 'algoritmos', 1], [0, 'java', 0], [1, 'java', 1], [1, 'algoritmos', 1], [1, 'java', 1], [1, 'java', 1], [1, 'java', 0], [0, 'ruby', 0], [1, 'algoritmos', 1], [1, 'algoritmos', 0], [1, 'java', 1], [1, 'ruby', 1], [1, 'java', 0], [1, 'java', 0], [0, 'java', 1], [1, 'algoritmos', 0], [1, 'algoritmos', 1], [0, 'java', 1], [1, 'ruby', 0], [1, 'java', 0], [0, 'java', 1], [1, 'java', 1], [1, 'ruby', 0], [0, 'algoritmos', 1], [0, 'java', 1], [0, 'ruby', 0], [1, 'ruby', 0], [1, 'java', 1], [1, 'java', 1], [0, 'algoritmos', 0], [0, 'algoritmos', 1], [0, 'ruby', 1], [0, 'java', 1], [1, 'algoritmos', 1], [1, 'algoritmos', 0], [1, 'ruby', 1], [1, 'ruby', 1], [1, 'algoritmos', 0], [0, 'algoritmos', 1], [0, 'java', 0], [1, 'java', 0], [1, 'algoritmos', 0], [0, 'ruby', 0], [1, 'algoritmos', 1], [0, 'ruby', 1], [1, 'ruby', 0], [1, 'algoritmos', 1], [1, 'algoritmos', 0], [1, 'ruby', 0], [1, 'ruby', 1], [1, 'ruby', 0], [1, 'algoritmos', 1], [1, 'ruby', 1], [1, 'ruby', 0], [1, 'algoritmos', 0], [0, 'algoritmos', 0], [1, 'ruby', 0], [1, 'java', 0], [0, 'ruby', 0], [1, 'algoritmos', 0], [0, 'ruby', 0], [1, 'algoritmos', 1], [1, 'ruby', 1], [0, 'algoritmos', 0], [1, 'ruby', 0], [1, 'algoritmos', 1], [0, 'java', 0], [0, 'algoritmos', 1], [0, 'algoritmos', 1], [1, 'java', 1], [1, 'algoritmos', 0], [1, 'ruby', 0], [0, 'ruby', 0], [0, 'ruby', 0], [0, 'algoritmos', 0], [0, 'algoritmos', 0], [1, 'ruby', 0], [1, 'ruby', 0], [1, 'java', 0], [0, 'java', 1], [0, 'java', 1], [1, 'java', 0], [0, 'algoritmos', 1], [1, 'algoritmos', 0], [0, 'java', 0], [0, 'java', 1], [1, 'ruby', 0], [0, 'java', 0], [0, 'java', 0], [0, 'java', 1], [0, 'ruby', 1], [0, 'java', 1], [1, 'ruby', 0], [1, 'ruby', 1], [1, 'algoritmos', 1], [1, 'ruby', 1], [0, 'java', 1], [0, 'ruby', 1], [1, 'java', 0], [0, 'ruby', 0], [0, 'ruby', 1], [1, 'java', 0], [0, 'ruby', 1], [1, 'algoritmos', 1], [0, 'algoritmos', 1], [0, 'java', 0], [1, 'ruby', 1], [1, 'algoritmos', 0], [1, 'ruby', 1], [0, 'ruby', 1], [0, 'ruby', 1], [0, 'java', 0], [0, 'java', 0], [0, 'java', 1], [1, 'algoritmos', 0], [0, 'java', 0], [1, 'ruby', 0], [1, 'java', 1], [1, 'java', 0], [0, 'ruby', 0], [1, 'algoritmos', 1], [1, 'algoritmos', 1], [1, 'algoritmos', 1], [0, 'java', 0], [1, 'ruby', 0], [1, 'java', 0], [1, 'ruby', 0], [0, 'algoritmos', 0], [0, 'java', 1], [0, 'algoritmos', 1], [0, 'ruby', 0], [0, 'algoritmos', 0], [1, 'java', 1], [0, 'java', 1], [1, 'ruby', 1], [0, 'algoritmos', 0], [0, 'java', 1], [1, 'java', 0], [0, 'ruby', 1], [0, 'java', 0], [0, 'java', 1], [0, 'ruby', 1], [1, 'ruby', 0], [1, 'java', 0], [0, 'java', 1], [1, 'algoritmos', 0], [0, 'algoritmos', 0], [0, 'algoritmos', 0], [0, 'ruby', 0], [1, 'ruby', 1], [0, 'ruby', 1], [1, 'algoritmos', 1], [0, 'ruby', 1], [0, 'ruby', 0], [1, 'java', 0], [0, 'ruby', 1], [0, 'algoritmos', 0], [0, 'ruby', 1], [1, 'algoritmos', 0], [0, 'algoritmos', 1], [0, 'algoritmos', 0], [0, 'algoritmos', 1], [1, 'java', 1], [1, 'java', 1], [1, 'algoritmos', 1], [0, 'algoritmos', 1], [0, 'ruby', 0], [0, 'ruby', 1], [0, 'algoritmos', 0], [1, 'ruby', 1], [0, 'algoritmos', 0], [0, 'algoritmos', 0], [1, 'java', 0], [1, 'java', 1], [1, 'algoritmos', 1], [0, 'algoritmos', 1], [1, 'java', 0], [0, 'algoritmos', 0], [1, 'ruby', 0], [1, 'ruby', 0], [1, 'ruby', 0], [1, 'algoritmos', 1], [0, 'java', 1], [0, 'algoritmos', 0], [0, 'algoritmos', 0], [1, 'algoritmos', 1], [0, 'java', 1], [0, 'algoritmos', 1], [1, 'java', 0], [0, 'ruby', 0], [0, 'algoritmos', 0], [1, 'algoritmos', 1], [0, 'java', 1], [0, 'java', 1], [1, 'ruby', 1], [1, 'ruby', 1], [0, 'algoritmos', 1], [0, 'java', 0], [1, 'java', 0], [0, 'ruby', 0], [1, 'ruby', 0], [1, 'algoritmos', 1], [1, 'algoritmos', 1], [0, 'ruby', 0], [0, 'java', 1], [0, 'ruby', 1], [1, 'algoritmos', 0], [0, 'algoritmos', 1], [0, 'algoritmos', 0], [0, 'algoritmos', 1], [1, 'algoritmos', 0], [0, 'algoritmos', 0], [0, 'java', 1], [0, 'algoritmos', 1], [0, 'algoritmos', 0], [0, 'ruby', 1], [0, 'ruby', 0], [1, 'java', 0], [1, 'algoritmos', 0], [0, 'java', 0], [1, 'ruby', 1], [0, 'java', 0], [0, 'ruby', 0], [1, 'ruby', 0], [0, 'algoritmos', 0], [0, 'ruby', 0], [0, 'algoritmos', 1], [0, 'java', 1], [0, 'java', 1], [0, 'java', 1], [1, 'java', 1], [1, 'ruby', 0], [0, 'ruby', 0], [1, 'java', 0], [1, 'java', 0], [1, 'ruby', 1], [1, 'algoritmos', 0], [1, 'ruby', 1], [1, 'algoritmos', 0], [0, 'java', 0], [1, 'java', 0], [0, 'java', 0], [0, 'ruby', 0], [1, 'ruby', 0], [0, 'java', 0], [1, 'ruby', 0], [1, 'java', 1], [0, 'java', 1], [1, 'ruby', 1], [1, 'ruby', 1], [1, 'algoritmos', 1], [0, 'java', 0], [1, 'java', 1], [0, 'algoritmos', 0], [1, 'java', 0], [1, 'java', 0], [0, 'algoritmos', 1], [0, 'ruby', 0], [1, 'java', 0], [0, 'java', 0], [0, 'algoritmos', 0], [1, 'ruby', 1], [0, 'java', 0], [1, 'algoritmos', 1], [1, 'ruby', 1], [0, 'ruby', 1], [0, 'algoritmos', 0], [1, 'ruby', 1], [0, 'algoritmos', 0], [1, 'algoritmos', 1], [0, 'ruby', 1], [0, 'ruby', 1], [0, 'ruby', 0], [0, 'algoritmos', 0], [0, 'algoritmos', 1], [1, 'java', 0], [1, 'ruby', 1], [0, 'algoritmos', 1], [1, 'algoritmos', 0], [0, 'java', 0], [1, 'java', 1], [1, 'algoritmos', 0], [1, 'java', 0], [1, 'java', 1], [0, 'algoritmos', 0], [0, 'ruby', 1], [1, 'java', 1], [1, 'ruby', 1], [0, 'ruby', 1], [1, 'java', 0], [1, 'java', 1], [0, 'algoritmos', 0], [0, 'java', 0], [0, 'java', 1], [1, 'ruby', 1], [0, 'ruby', 0], [0, 'ruby', 0], [0, 'ruby', 1], [0, 'java', 1], [1, 'ruby', 1], [0, 'algoritmos', 1], [0, 'algoritmos', 1], [1, 'java', 0], [0, 'java', 1], [0, 'algoritmos', 1], [1, 'java', 1], [1, 'java', 1], [1, 'ruby', 1], [0, 'java', 1], [1, 'algoritmos', 1], [0, 'ruby', 1], [1, 'java', 1], [0, 'java', 1], [0, 'algoritmos', 1], [0, 'algoritmos', 0], [0, 'ruby', 0], [1, 'ruby', 0], [0, 'ruby', 0], [1, 'algoritmos', 0], [1, 'algoritmos', 0], [0, 'ruby', 1], [1, 'algoritmos', 0], [0, 'algoritmos', 1], [0, 'algoritmos', 1], [0, 'algoritmos', 1], [0, 'java', 1], [1, 'ruby', 1], [1, 'java', 0], [0, 'ruby', 0], [0, 'algoritmos', 0], [1, 'algoritmos', 1], [0, 'java', 1], [1, 'java', 0], [1, 'ruby', 0], [0, 'java', 0], [0, 'ruby', 1], [0, 'algoritmos', 1], [0, 'ruby', 1], [1, 'ruby', 1], [0, 'ruby', 0], [0, 'java', 0], [0, 'algoritmos', 1], [1, 'algoritmos', 0], [1, 'java', 1], [1, 'java', 0], [1, 'ruby', 0], [1, 'java', 1], [0, 'ruby', 1], [1, 'algoritmos', 1], [1, 'java', 0], [1, 'algoritmos', 1], [0, 'ruby', 0], [0, 'ruby', 0], [0, 'ruby', 1], [0, 'ruby', 0], [0, 'algoritmos', 1], [0, 'algoritmos', 1], [0, 'ruby', 1], [0, 'java', 0], [0, 'java', 0], [1, 'algoritmos', 1], [0, 'ruby', 0], [0, 'ruby', 1], [1, 'ruby', 1], [0, 'java', 1], [1, 'java', 0], [1, 'java', 0], [0, 'ruby', 0], [1, 'algoritmos', 0], [0, 'java', 0], [1, 'ruby', 0], [1, 'java', 1], [1, 'java', 0], [1, 'algoritmos', 0], [1, 'java', 1], [1, 'java', 1], [0, 'java', 1], [0, 'ruby', 0], [1, 'java', 0], [1, 'ruby', 1], [0, 'java', 1], [1, 'java', 0], [0, 'ruby', 0], [0, 'ruby', 0], [0, 'ruby', 0], [0, 'ruby', 0], [1, 'ruby', 0], [0, 'ruby', 1], [1, 'ruby', 0], [0, 'java', 1], [1, 'java', 1], [0, 'algoritmos', 1], [0, 'algoritmos', 0], [1, 'ruby', 1], [0, 'ruby', 1], [0, 'ruby', 1], [0, 'java', 1], [1, 'ruby', 1], [1, 'java', 1], [0, 'algoritmos', 0], [1, 'java', 0], [1, 'java', 0], [0, 'java', 1], [1, 'algoritmos', 0], [0, 'ruby', 0], [1, 'algoritmos', 1], [1, 'java', 1], [0, 'java', 0], [1, 'java', 0], [1, 'algoritmos', 1], [1, 'java', 0], [1, 'algoritmos', 1], [1, 'algoritmos', 1], [0, 'ruby', 1], [1, 'java', 1], [0, 'algoritmos', 0], [1, 'java', 1], [1, 'algoritmos', 1], [1, 'algoritmos', 0], [0, 'algoritmos', 1], [1, 'algoritmos', 0], [0, 'algoritmos', 1], [0, 'ruby', 0], [1, 'algoritmos', 1], [1, 'ruby', 0], [0, 'java', 0], [1, 'ruby', 0], [0, 'java', 1], [0, 'ruby', 1], [1, 'algoritmos', 1], [0, 'ruby', 1], [1, 'algoritmos', 1], [1, 'ruby', 1], [0, 'algoritmos', 0], [0, 'java', 1], [1, 'java', 0], [0, 'java', 1], [1, 'ruby', 0], [1, 'ruby', 0], [0, 'algoritmos', 0], [1, 'algoritmos', 0], [1, 'ruby', 0], [1, 'ruby', 0], [1, 'ruby', 0], [1, 'java', 1], [1, 'algoritmos', 1], [1, 'algoritmos', 0], [0, 'java', 1], [0, 'java', 0], [1, 'algoritmos', 1], [1, 'ruby', 1], [0, 'java', 1], [1, 'java', 1], [1, 'algoritmos', 0], [0, 'algoritmos', 1], [0, 'algoritmos', 1], [0, 'java', 0], [0, 'algoritmos', 1], [1, 'java', 0], [0, 'java', 1], [1, 'ruby', 1], [0, 'ruby', 0], [0, 'java', 0], [1, 'java', 0], [0, 'java', 0], [1, 'algoritmos', 0], [0, 'algoritmos', 1], [0, 'ruby', 0], [1, 'ruby', 0], [0, 'algoritmos', 0], [0, 'java', 0], [0, 'algoritmos', 1], [0, 'algoritmos', 0], [1, 'ruby', 1], [1, 'algoritmos', 1], [0, 'ruby', 1], [0, 'java', 1], [1, 'ruby', 1], [1, 'algoritmos', 1], [0, 'java', 1], [1, 'ruby', 1], [1, 'algoritmos', 0], [0, 'java', 1], [1, 'ruby', 0], [1, 'ruby', 0], [0, 'ruby', 0], [1, 'java', 0], [1, 'ruby', 0], [0, 'algoritmos', 0], [1, 'ruby', 1], [1, 'ruby', 1], [0, 'java', 0], [1, 'ruby', 1], [0, 'algoritmos', 0], [0, 'java', 1], [1, 'java', 0], [0, 'algoritmos', 0], [0, 'java', 0], [1, 'algoritmos', 0], [1, 'algoritmos', 0], [1, 'java', 0], [0, 'ruby', 1], [0, 'ruby', 0], [0, 'ruby', 0], [0, 'java', 1], [1, 'algoritmos', 0], [0, 'ruby', 1]]\n"
          ]
        }
      ]
    },
    {
      "cell_type": "code",
      "metadata": {
        "colab": {
          "base_uri": "https://localhost:8080/"
        },
        "id": "B65uv_0Egmku",
        "outputId": "a5b382aa-0ebb-4428-c803-96326509157a"
      },
      "source": [
        "print(Y)"
      ],
      "execution_count": 16,
      "outputs": [
        {
          "output_type": "stream",
          "name": "stdout",
          "text": [
            "[1, 1, 1, 0, 1, 0, 1, 1, 1, 1, 1, 0, 1, 1, 1, 1, 1, 1, 1, 1, 1, 1, 1, 1, 0, 1, 0, 0, 1, 1, 1, 1, 0, 0, 1, 0, 1, 1, 1, 1, 1, 1, 1, 0, 1, 1, 1, 1, 1, 1, 0, 1, 1, 1, 1, 1, 1, 1, 1, 1, 0, 1, 1, 1, 0, 1, 0, 1, 0, 1, 1, 1, 1, 1, 1, 0, 1, 1, 1, 1, 1, 1, 0, 1, 0, 0, 1, 1, 1, 0, 1, 1, 1, 1, 0, 1, 1, 1, 1, 1, 1, 1, 1, 0, 1, 1, 1, 0, 0, 1, 1, 1, 1, 1, 1, 1, 1, 1, 1, 0, 1, 1, 1, 0, 1, 1, 0, 0, 1, 1, 1, 1, 1, 1, 1, 1, 1, 1, 1, 1, 0, 0, 0, 0, 1, 1, 1, 1, 0, 0, 1, 1, 1, 1, 1, 1, 1, 1, 1, 1, 1, 1, 1, 1, 0, 1, 0, 1, 1, 1, 1, 1, 1, 1, 1, 1, 1, 1, 1, 1, 1, 1, 0, 1, 0, 1, 0, 0, 1, 0, 1, 1, 1, 1, 0, 1, 1, 1, 1, 0, 1, 0, 0, 1, 1, 1, 1, 1, 1, 1, 1, 0, 1, 1, 1, 1, 1, 1, 1, 1, 0, 1, 1, 1, 1, 1, 1, 1, 1, 1, 1, 1, 1, 1, 1, 1, 1, 1, 1, 1, 1, 1, 1, 1, 1, 1, 1, 0, 1, 1, 1, 1, 1, 1, 1, 1, 1, 1, 0, 0, 1, 1, 0, 1, 1, 1, 0, 1, 1, 1, 1, 1, 1, 1, 1, 0, 1, 0, 1, 1, 0, 1, 0, 1, 1, 0, 0, 1, 0, 1, 1, 0, 1, 1, 1, 1, 1, 0, 0, 1, 1, 1, 1, 0, 0, 1, 1, 0, 0, 1, 1, 1, 0, 1, 1, 1, 1, 1, 1, 1, 1, 1, 1, 1, 0, 1, 1, 1, 1, 1, 1, 0, 0, 1, 1, 1, 1, 1, 1, 0, 1, 0, 1, 0, 1, 1, 1, 1, 1, 1, 1, 1, 1, 1, 1, 1, 1, 1, 1, 1, 1, 1, 1, 1, 1, 0, 0, 1, 1, 1, 1, 1, 1, 1, 1, 1, 1, 1, 1, 1, 1, 0, 1, 1, 1, 0, 1, 1, 1, 1, 0, 1, 1, 0, 1, 1, 1, 1, 1, 1, 0, 0, 1, 1, 1, 1, 1, 0, 1, 1, 1, 1, 1, 1, 1, 1, 1, 1, 0, 1, 1, 1, 1, 1, 1, 1, 1, 1, 1, 1, 1, 0, 1, 0, 1, 1, 1, 1, 1, 1, 1, 1, 1, 1, 0, 1, 1, 1, 1, 1, 1, 1, 1, 1, 1, 1, 0, 1, 1, 1, 1, 1, 1, 1, 1, 1, 1, 1, 1, 1, 1, 0, 1, 1, 1, 1, 1, 0, 1, 1, 1, 1, 1, 1, 1, 1, 1, 1, 1, 1, 1, 1, 1, 1, 1, 1, 1, 1, 1, 1, 1, 1, 0, 1, 1, 1, 1, 1, 0, 1, 1, 1, 1, 1, 1, 0, 1, 1, 0, 1, 1, 1, 1, 1, 1, 1, 1, 0, 1, 1, 1, 1, 1, 1, 0, 1, 1, 1, 0, 1, 1, 0, 1, 1, 1, 1, 0, 1, 1, 0, 1, 1, 1, 0, 1, 1, 1, 0, 1, 1, 1, 1, 1, 1, 1, 1, 1, 1, 1, 0, 0, 1, 1, 1, 1, 1, 1, 1, 1, 1, 1, 1, 1, 1, 1, 0, 1, 1, 1, 1, 1, 1, 1, 1, 1, 1, 1, 1, 1, 0, 0, 1, 1, 1, 1, 1, 1, 0, 1, 0, 1, 1, 1, 1, 1, 1, 1, 0, 1, 1, 1, 1, 1, 1, 1, 1, 1, 0, 1, 1, 1, 1, 1, 1, 1, 1, 1, 1, 0, 1, 1, 1, 1, 1, 1, 1, 1, 1, 1, 1, 1, 1, 1, 1, 1, 1, 1, 1, 1, 0, 0, 1, 0, 0, 1, 1, 1, 1, 1, 1, 1, 1, 1, 1, 1, 1, 1, 1, 1, 1, 1, 1, 1, 1, 1, 1, 1, 1, 0, 1, 1, 1, 0, 0, 1, 1, 0, 1, 1, 1, 1, 1, 1, 1, 0, 1, 1, 1, 1, 1, 1, 0, 1, 1, 1, 1, 1, 1, 0, 1, 1, 1, 1, 1, 0, 0, 1, 1, 1, 1, 1, 1, 1, 1, 1, 1, 0, 1, 0, 1, 1, 1, 1, 1, 1, 1, 0, 1, 1, 1, 1, 1, 1, 0, 0, 1, 1, 1, 1, 1, 1, 1, 1, 1, 1, 1, 1, 1, 1, 1, 1, 0, 1, 1, 1, 1, 1, 1, 1, 1, 1, 1, 1, 1, 1, 1, 1, 0, 1, 0, 1, 1, 1, 1, 1, 1, 1, 1, 1, 1, 0, 1, 1, 1, 1, 1, 1, 1, 0, 0, 1, 1, 0, 0, 0, 1, 1, 1, 1, 0, 1, 0, 0, 1, 1, 1, 0, 1, 1, 1, 1, 1, 1, 1, 1, 1, 1, 1, 0, 1, 1, 1, 1, 1, 1, 0, 0, 1, 1, 1, 1, 1, 1, 1, 0, 0, 1, 1, 1, 1, 1, 1, 1, 1, 1, 1, 1, 1, 1, 1, 1, 1, 1, 1, 1, 1, 1, 1, 1, 1, 1, 0, 1, 1, 1, 1, 0, 1, 1, 1, 0, 1, 1, 1, 1, 1, 1, 1, 1, 1, 1, 1, 1, 1, 1, 1, 1, 1, 1, 1, 1, 1, 1, 1, 1, 0, 1, 1, 1, 0, 1, 1, 1, 1, 1, 1, 1, 1, 1, 1, 0, 0, 0, 1, 1, 0, 1, 1, 1, 0, 1, 1, 1, 1, 1, 1, 1, 1, 1, 1, 1, 1, 1, 1, 1, 1, 1, 1, 1, 1, 1, 1, 1, 1, 1, 1, 1, 1, 1, 1, 1, 1, 1, 0, 1, 1, 0, 0, 0, 1, 0, 0, 1, 1, 1, 0, 1, 1, 1, 1, 1, 1, 0, 1, 0, 0, 1, 1, 1, 0]\n"
          ]
        }
      ]
    },
    {
      "cell_type": "code",
      "metadata": {
        "id": "54iXD264iE0p"
      },
      "source": [
        "import pandas as pd\n",
        "dados = pd.read_csv('cursos.csv')"
      ],
      "execution_count": 18,
      "outputs": []
    },
    {
      "cell_type": "code",
      "metadata": {
        "colab": {
          "base_uri": "https://localhost:8080/",
          "height": 206
        },
        "id": "DrTe_M6TiMfd",
        "outputId": "c9ab6247-b305-475d-8190-16de6c551e5a"
      },
      "source": [
        "dados.head()"
      ],
      "execution_count": 19,
      "outputs": [
        {
          "output_type": "execute_result",
          "data": {
            "text/html": [
              "<div>\n",
              "<style scoped>\n",
              "    .dataframe tbody tr th:only-of-type {\n",
              "        vertical-align: middle;\n",
              "    }\n",
              "\n",
              "    .dataframe tbody tr th {\n",
              "        vertical-align: top;\n",
              "    }\n",
              "\n",
              "    .dataframe thead th {\n",
              "        text-align: right;\n",
              "    }\n",
              "</style>\n",
              "<table border=\"1\" class=\"dataframe\">\n",
              "  <thead>\n",
              "    <tr style=\"text-align: right;\">\n",
              "      <th></th>\n",
              "      <th>home</th>\n",
              "      <th>busca</th>\n",
              "      <th>logado</th>\n",
              "      <th>comprou</th>\n",
              "    </tr>\n",
              "  </thead>\n",
              "  <tbody>\n",
              "    <tr>\n",
              "      <th>0</th>\n",
              "      <td>0</td>\n",
              "      <td>algoritmos</td>\n",
              "      <td>1</td>\n",
              "      <td>1</td>\n",
              "    </tr>\n",
              "    <tr>\n",
              "      <th>1</th>\n",
              "      <td>0</td>\n",
              "      <td>java</td>\n",
              "      <td>0</td>\n",
              "      <td>1</td>\n",
              "    </tr>\n",
              "    <tr>\n",
              "      <th>2</th>\n",
              "      <td>1</td>\n",
              "      <td>algoritmos</td>\n",
              "      <td>0</td>\n",
              "      <td>1</td>\n",
              "    </tr>\n",
              "    <tr>\n",
              "      <th>3</th>\n",
              "      <td>1</td>\n",
              "      <td>ruby</td>\n",
              "      <td>1</td>\n",
              "      <td>0</td>\n",
              "    </tr>\n",
              "    <tr>\n",
              "      <th>4</th>\n",
              "      <td>1</td>\n",
              "      <td>ruby</td>\n",
              "      <td>0</td>\n",
              "      <td>1</td>\n",
              "    </tr>\n",
              "  </tbody>\n",
              "</table>\n",
              "</div>"
            ],
            "text/plain": [
              "   home       busca  logado  comprou\n",
              "0     0  algoritmos       1        1\n",
              "1     0        java       0        1\n",
              "2     1  algoritmos       0        1\n",
              "3     1        ruby       1        0\n",
              "4     1        ruby       0        1"
            ]
          },
          "metadata": {},
          "execution_count": 19
        }
      ]
    },
    {
      "cell_type": "code",
      "metadata": {
        "colab": {
          "base_uri": "https://localhost:8080/"
        },
        "id": "aJ0hYyH4iOuV",
        "outputId": "1d69f3dc-77ef-4a8b-9461-5f4b5a5508b7"
      },
      "source": [
        "X = dados[['home', 'busca', 'logado']]\n",
        "Xdummies = pd.get_dummies(X).astype(int)\n",
        "print(Xdummies)"
      ],
      "execution_count": 21,
      "outputs": [
        {
          "output_type": "stream",
          "name": "stdout",
          "text": [
            "     home  logado  busca_algoritmos  busca_java  busca_ruby\n",
            "0       0       1                 1           0           0\n",
            "1       0       0                 0           1           0\n",
            "2       1       0                 1           0           0\n",
            "3       1       1                 0           0           1\n",
            "4       1       0                 0           0           1\n",
            "..    ...     ...               ...         ...         ...\n",
            "995     0       0                 0           0           1\n",
            "996     0       0                 0           0           1\n",
            "997     0       1                 0           1           0\n",
            "998     1       0                 1           0           0\n",
            "999     0       1                 0           0           1\n",
            "\n",
            "[1000 rows x 5 columns]\n"
          ]
        }
      ]
    },
    {
      "cell_type": "code",
      "metadata": {
        "colab": {
          "base_uri": "https://localhost:8080/"
        },
        "id": "ADf0EHFHil21",
        "outputId": "1805b51f-0658-415d-be2c-ee2628102a9e"
      },
      "source": [
        "Y = dados['comprou']\n",
        "Xdummies = pd.get_dummies(X).astype(int)\n",
        "Ydummies = Y\n",
        "\n",
        "print(Ydummies)"
      ],
      "execution_count": 24,
      "outputs": [
        {
          "output_type": "stream",
          "name": "stdout",
          "text": [
            "0      1\n",
            "1      1\n",
            "2      1\n",
            "3      0\n",
            "4      1\n",
            "      ..\n",
            "995    0\n",
            "996    1\n",
            "997    1\n",
            "998    1\n",
            "999    0\n",
            "Name: comprou, Length: 1000, dtype: int64\n"
          ]
        }
      ]
    },
    {
      "cell_type": "code",
      "metadata": {
        "id": "NB6Os-EliqQd"
      },
      "source": [
        "X = Xdummies.values\n",
        "Y = Ydummies.values"
      ],
      "execution_count": 42,
      "outputs": []
    },
    {
      "cell_type": "code",
      "metadata": {
        "colab": {
          "base_uri": "https://localhost:8080/"
        },
        "id": "Qqbo6dUCi6rk",
        "outputId": "10be7833-8ff9-4faa-ee2a-0462959e3945"
      },
      "source": [
        "print(X)"
      ],
      "execution_count": 29,
      "outputs": [
        {
          "output_type": "stream",
          "name": "stdout",
          "text": [
            "[[0 1 1 0 0]\n",
            " [0 0 0 1 0]\n",
            " [1 0 1 0 0]\n",
            " ...\n",
            " [0 1 0 1 0]\n",
            " [1 0 1 0 0]\n",
            " [0 1 0 0 1]]\n"
          ]
        }
      ]
    },
    {
      "cell_type": "code",
      "metadata": {
        "colab": {
          "base_uri": "https://localhost:8080/"
        },
        "id": "_anV6F9ci-Rl",
        "outputId": "50f9e9fd-a431-4ca0-f08f-2c86b8b1e0f0"
      },
      "source": [
        "print(Y)"
      ],
      "execution_count": 30,
      "outputs": [
        {
          "output_type": "stream",
          "name": "stdout",
          "text": [
            "[1 1 1 0 1 0 1 1 1 1 1 0 1 1 1 1 1 1 1 1 1 1 1 1 0 1 0 0 1 1 1 1 0 0 1 0 1\n",
            " 1 1 1 1 1 1 0 1 1 1 1 1 1 0 1 1 1 1 1 1 1 1 1 0 1 1 1 0 1 0 1 0 1 1 1 1 1\n",
            " 1 0 1 1 1 1 1 1 0 1 0 0 1 1 1 0 1 1 1 1 0 1 1 1 1 1 1 1 1 0 1 1 1 0 0 1 1\n",
            " 1 1 1 1 1 1 1 1 0 1 1 1 0 1 1 0 0 1 1 1 1 1 1 1 1 1 1 1 1 0 0 0 0 1 1 1 1\n",
            " 0 0 1 1 1 1 1 1 1 1 1 1 1 1 1 1 0 1 0 1 1 1 1 1 1 1 1 1 1 1 1 1 1 1 0 1 0\n",
            " 1 0 0 1 0 1 1 1 1 0 1 1 1 1 0 1 0 0 1 1 1 1 1 1 1 1 0 1 1 1 1 1 1 1 1 0 1\n",
            " 1 1 1 1 1 1 1 1 1 1 1 1 1 1 1 1 1 1 1 1 1 1 1 1 1 0 1 1 1 1 1 1 1 1 1 1 0\n",
            " 0 1 1 0 1 1 1 0 1 1 1 1 1 1 1 1 0 1 0 1 1 0 1 0 1 1 0 0 1 0 1 1 0 1 1 1 1\n",
            " 1 0 0 1 1 1 1 0 0 1 1 0 0 1 1 1 0 1 1 1 1 1 1 1 1 1 1 1 0 1 1 1 1 1 1 0 0\n",
            " 1 1 1 1 1 1 0 1 0 1 0 1 1 1 1 1 1 1 1 1 1 1 1 1 1 1 1 1 1 1 1 1 0 0 1 1 1\n",
            " 1 1 1 1 1 1 1 1 1 1 1 0 1 1 1 0 1 1 1 1 0 1 1 0 1 1 1 1 1 1 0 0 1 1 1 1 1\n",
            " 0 1 1 1 1 1 1 1 1 1 1 0 1 1 1 1 1 1 1 1 1 1 1 1 0 1 0 1 1 1 1 1 1 1 1 1 1\n",
            " 0 1 1 1 1 1 1 1 1 1 1 1 0 1 1 1 1 1 1 1 1 1 1 1 1 1 1 0 1 1 1 1 1 0 1 1 1\n",
            " 1 1 1 1 1 1 1 1 1 1 1 1 1 1 1 1 1 1 1 1 1 0 1 1 1 1 1 0 1 1 1 1 1 1 0 1 1\n",
            " 0 1 1 1 1 1 1 1 1 0 1 1 1 1 1 1 0 1 1 1 0 1 1 0 1 1 1 1 0 1 1 0 1 1 1 0 1\n",
            " 1 1 0 1 1 1 1 1 1 1 1 1 1 1 0 0 1 1 1 1 1 1 1 1 1 1 1 1 1 1 0 1 1 1 1 1 1\n",
            " 1 1 1 1 1 1 1 0 0 1 1 1 1 1 1 0 1 0 1 1 1 1 1 1 1 0 1 1 1 1 1 1 1 1 1 0 1\n",
            " 1 1 1 1 1 1 1 1 1 0 1 1 1 1 1 1 1 1 1 1 1 1 1 1 1 1 1 1 1 1 0 0 1 0 0 1 1\n",
            " 1 1 1 1 1 1 1 1 1 1 1 1 1 1 1 1 1 1 1 1 1 1 0 1 1 1 0 0 1 1 0 1 1 1 1 1 1\n",
            " 1 0 1 1 1 1 1 1 0 1 1 1 1 1 1 0 1 1 1 1 1 0 0 1 1 1 1 1 1 1 1 1 1 0 1 0 1\n",
            " 1 1 1 1 1 1 0 1 1 1 1 1 1 0 0 1 1 1 1 1 1 1 1 1 1 1 1 1 1 1 1 0 1 1 1 1 1\n",
            " 1 1 1 1 1 1 1 1 1 1 0 1 0 1 1 1 1 1 1 1 1 1 1 0 1 1 1 1 1 1 1 0 0 1 1 0 0\n",
            " 0 1 1 1 1 0 1 0 0 1 1 1 0 1 1 1 1 1 1 1 1 1 1 1 0 1 1 1 1 1 1 0 0 1 1 1 1\n",
            " 1 1 1 0 0 1 1 1 1 1 1 1 1 1 1 1 1 1 1 1 1 1 1 1 1 1 1 1 1 1 0 1 1 1 1 0 1\n",
            " 1 1 0 1 1 1 1 1 1 1 1 1 1 1 1 1 1 1 1 1 1 1 1 1 1 1 1 0 1 1 1 0 1 1 1 1 1\n",
            " 1 1 1 1 1 0 0 0 1 1 0 1 1 1 0 1 1 1 1 1 1 1 1 1 1 1 1 1 1 1 1 1 1 1 1 1 1\n",
            " 1 1 1 1 1 1 1 1 1 1 1 0 1 1 0 0 0 1 0 0 1 1 1 0 1 1 1 1 1 1 0 1 0 0 1 1 1\n",
            " 0]\n"
          ]
        }
      ]
    },
    {
      "cell_type": "code",
      "metadata": {
        "id": "9MyUgqqti_u6"
      },
      "source": [
        "porcentagem_treino = 0.9\n",
        " \n",
        "tamanho_de_treino = int(porcentagem_treino * len(Y))\n",
        "tamanho_de_teste = int(len(Y) - tamanho_de_treino)\n",
        "\n",
        "treino_dados = X[:tamanho_de_treino]\n",
        "treino_marcacoes = Y[:tamanho_de_treino]\n",
        "teste_dados = X[-tamanho_de_teste:]\n",
        "teste_marcacoes = Y[-tamanho_de_teste:]"
      ],
      "execution_count": 44,
      "outputs": []
    },
    {
      "cell_type": "code",
      "metadata": {
        "colab": {
          "base_uri": "https://localhost:8080/"
        },
        "id": "8PskJ_E8lJk7",
        "outputId": "9358aadb-3ffa-46ac-eaed-aa843e0d5372"
      },
      "source": [
        "treino_dados"
      ],
      "execution_count": 50,
      "outputs": [
        {
          "output_type": "execute_result",
          "data": {
            "text/plain": [
              "array([[0, 1, 1, 0, 0],\n",
              "       [0, 0, 0, 1, 0],\n",
              "       [1, 0, 1, 0, 0],\n",
              "       ...,\n",
              "       [0, 0, 0, 0, 1],\n",
              "       [1, 1, 1, 0, 0],\n",
              "       [1, 1, 0, 1, 0]])"
            ]
          },
          "metadata": {},
          "execution_count": 50
        }
      ]
    },
    {
      "cell_type": "code",
      "metadata": {
        "colab": {
          "base_uri": "https://localhost:8080/"
        },
        "id": "le5jDIAxlLj4",
        "outputId": "84ffeecb-cb69-4acf-df8e-f9b97c8e59ec"
      },
      "source": [
        "treino_marcacoes"
      ],
      "execution_count": 51,
      "outputs": [
        {
          "output_type": "execute_result",
          "data": {
            "text/plain": [
              "array([1, 1, 1, 0, 1, 0, 1, 1, 1, 1, 1, 0, 1, 1, 1, 1, 1, 1, 1, 1, 1, 1,\n",
              "       1, 1, 0, 1, 0, 0, 1, 1, 1, 1, 0, 0, 1, 0, 1, 1, 1, 1, 1, 1, 1, 0,\n",
              "       1, 1, 1, 1, 1, 1, 0, 1, 1, 1, 1, 1, 1, 1, 1, 1, 0, 1, 1, 1, 0, 1,\n",
              "       0, 1, 0, 1, 1, 1, 1, 1, 1, 0, 1, 1, 1, 1, 1, 1, 0, 1, 0, 0, 1, 1,\n",
              "       1, 0, 1, 1, 1, 1, 0, 1, 1, 1, 1, 1, 1, 1, 1, 0, 1, 1, 1, 0, 0, 1,\n",
              "       1, 1, 1, 1, 1, 1, 1, 1, 1, 0, 1, 1, 1, 0, 1, 1, 0, 0, 1, 1, 1, 1,\n",
              "       1, 1, 1, 1, 1, 1, 1, 1, 0, 0, 0, 0, 1, 1, 1, 1, 0, 0, 1, 1, 1, 1,\n",
              "       1, 1, 1, 1, 1, 1, 1, 1, 1, 1, 0, 1, 0, 1, 1, 1, 1, 1, 1, 1, 1, 1,\n",
              "       1, 1, 1, 1, 1, 1, 0, 1, 0, 1, 0, 0, 1, 0, 1, 1, 1, 1, 0, 1, 1, 1,\n",
              "       1, 0, 1, 0, 0, 1, 1, 1, 1, 1, 1, 1, 1, 0, 1, 1, 1, 1, 1, 1, 1, 1,\n",
              "       0, 1, 1, 1, 1, 1, 1, 1, 1, 1, 1, 1, 1, 1, 1, 1, 1, 1, 1, 1, 1, 1,\n",
              "       1, 1, 1, 1, 1, 0, 1, 1, 1, 1, 1, 1, 1, 1, 1, 1, 0, 0, 1, 1, 0, 1,\n",
              "       1, 1, 0, 1, 1, 1, 1, 1, 1, 1, 1, 0, 1, 0, 1, 1, 0, 1, 0, 1, 1, 0,\n",
              "       0, 1, 0, 1, 1, 0, 1, 1, 1, 1, 1, 0, 0, 1, 1, 1, 1, 0, 0, 1, 1, 0,\n",
              "       0, 1, 1, 1, 0, 1, 1, 1, 1, 1, 1, 1, 1, 1, 1, 1, 0, 1, 1, 1, 1, 1,\n",
              "       1, 0, 0, 1, 1, 1, 1, 1, 1, 0, 1, 0, 1, 0, 1, 1, 1, 1, 1, 1, 1, 1,\n",
              "       1, 1, 1, 1, 1, 1, 1, 1, 1, 1, 1, 1, 1, 0, 0, 1, 1, 1, 1, 1, 1, 1,\n",
              "       1, 1, 1, 1, 1, 1, 1, 0, 1, 1, 1, 0, 1, 1, 1, 1, 0, 1, 1, 0, 1, 1,\n",
              "       1, 1, 1, 1, 0, 0, 1, 1, 1, 1, 1, 0, 1, 1, 1, 1, 1, 1, 1, 1, 1, 1,\n",
              "       0, 1, 1, 1, 1, 1, 1, 1, 1, 1, 1, 1, 1, 0, 1, 0, 1, 1, 1, 1, 1, 1,\n",
              "       1, 1, 1, 1, 0, 1, 1, 1, 1, 1, 1, 1, 1, 1, 1, 1, 0, 1, 1, 1, 1, 1,\n",
              "       1, 1, 1, 1, 1, 1, 1, 1, 1, 0, 1, 1, 1, 1, 1, 0, 1, 1, 1, 1, 1, 1,\n",
              "       1, 1, 1, 1, 1, 1, 1, 1, 1, 1, 1, 1, 1, 1, 1, 1, 1, 1, 0, 1, 1, 1,\n",
              "       1, 1, 0, 1, 1, 1, 1, 1, 1, 0, 1, 1, 0, 1, 1, 1, 1, 1, 1, 1, 1, 0,\n",
              "       1, 1, 1, 1, 1, 1, 0, 1, 1, 1, 0, 1, 1, 0, 1, 1, 1, 1, 0, 1, 1, 0,\n",
              "       1, 1, 1, 0, 1, 1, 1, 0, 1, 1, 1, 1, 1, 1, 1, 1, 1, 1, 1, 0, 0, 1,\n",
              "       1, 1, 1, 1, 1, 1, 1, 1, 1, 1, 1, 1, 1, 0, 1, 1, 1, 1, 1, 1, 1, 1,\n",
              "       1, 1, 1, 1, 1, 0, 0, 1, 1, 1, 1, 1, 1, 0, 1, 0, 1, 1, 1, 1, 1, 1,\n",
              "       1, 0, 1, 1, 1, 1, 1, 1, 1, 1, 1, 0, 1, 1, 1, 1, 1, 1, 1, 1, 1, 1,\n",
              "       0, 1, 1, 1, 1, 1, 1, 1, 1, 1, 1, 1, 1, 1, 1, 1, 1, 1, 1, 1, 1, 0,\n",
              "       0, 1, 0, 0, 1, 1, 1, 1, 1, 1, 1, 1, 1, 1, 1, 1, 1, 1, 1, 1, 1, 1,\n",
              "       1, 1, 1, 1, 1, 1, 0, 1, 1, 1, 0, 0, 1, 1, 0, 1, 1, 1, 1, 1, 1, 1,\n",
              "       0, 1, 1, 1, 1, 1, 1, 0, 1, 1, 1, 1, 1, 1, 0, 1, 1, 1, 1, 1, 0, 0,\n",
              "       1, 1, 1, 1, 1, 1, 1, 1, 1, 1, 0, 1, 0, 1, 1, 1, 1, 1, 1, 1, 0, 1,\n",
              "       1, 1, 1, 1, 1, 0, 0, 1, 1, 1, 1, 1, 1, 1, 1, 1, 1, 1, 1, 1, 1, 1,\n",
              "       1, 0, 1, 1, 1, 1, 1, 1, 1, 1, 1, 1, 1, 1, 1, 1, 1, 0, 1, 0, 1, 1,\n",
              "       1, 1, 1, 1, 1, 1, 1, 1, 0, 1, 1, 1, 1, 1, 1, 1, 0, 0, 1, 1, 0, 0,\n",
              "       0, 1, 1, 1, 1, 0, 1, 0, 0, 1, 1, 1, 0, 1, 1, 1, 1, 1, 1, 1, 1, 1,\n",
              "       1, 1, 0, 1, 1, 1, 1, 1, 1, 0, 0, 1, 1, 1, 1, 1, 1, 1, 0, 0, 1, 1,\n",
              "       1, 1, 1, 1, 1, 1, 1, 1, 1, 1, 1, 1, 1, 1, 1, 1, 1, 1, 1, 1, 1, 1,\n",
              "       1, 0, 1, 1, 1, 1, 0, 1, 1, 1, 0, 1, 1, 1, 1, 1, 1, 1, 1, 1])"
            ]
          },
          "metadata": {},
          "execution_count": 51
        }
      ]
    },
    {
      "cell_type": "code",
      "metadata": {
        "colab": {
          "base_uri": "https://localhost:8080/"
        },
        "id": "hQ5LfZ7Lkj8k",
        "outputId": "44e2ce61-cd31-40fa-d2e8-afcbdf7ef11e"
      },
      "source": [
        "from sklearn.naive_bayes import MultinomialNB\n",
        "modelo = MultinomialNB()\n",
        "modelo.fit(treino_dados, treino_marcacoes)"
      ],
      "execution_count": 45,
      "outputs": [
        {
          "output_type": "execute_result",
          "data": {
            "text/plain": [
              "MultinomialNB()"
            ]
          },
          "metadata": {},
          "execution_count": 45
        }
      ]
    },
    {
      "cell_type": "code",
      "metadata": {
        "id": "vwHQOa5hkkxz"
      },
      "source": [
        "resultado = modelo.predict(teste_dados)"
      ],
      "execution_count": 46,
      "outputs": []
    },
    {
      "cell_type": "code",
      "metadata": {
        "colab": {
          "base_uri": "https://localhost:8080/"
        },
        "id": "1EnUZCkakmem",
        "outputId": "09d278c3-5056-40ff-e591-b3189219e0fe"
      },
      "source": [
        "diferencas = resultado - teste_marcacoes\n",
        "\n",
        "acertos = [d for d in diferencas if d == 0]\n",
        "total_de_acertos = len(acertos)\n",
        "total_de_elementos = len(teste_dados)\n",
        "\n",
        "taxa_de_acerto = 100.0 * total_de_acertos / total_de_elementos\n",
        "\n",
        "print(taxa_de_acerto)\n",
        "print(total_de_elementos)"
      ],
      "execution_count": 47,
      "outputs": [
        {
          "output_type": "stream",
          "name": "stdout",
          "text": [
            "82.0\n",
            "100\n"
          ]
        }
      ]
    }
  ]
}