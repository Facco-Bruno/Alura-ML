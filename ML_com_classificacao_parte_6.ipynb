{
  "nbformat": 4,
  "nbformat_minor": 0,
  "metadata": {
    "colab": {
      "name": "ML com classificacao parte 6.ipynb",
      "provenance": [],
      "collapsed_sections": [],
      "authorship_tag": "ABX9TyMqEqtPDBo1Lm+N3U96pN1E",
      "include_colab_link": true
    },
    "kernelspec": {
      "name": "python3",
      "display_name": "Python 3"
    },
    "language_info": {
      "name": "python"
    }
  },
  "cells": [
    {
      "cell_type": "markdown",
      "metadata": {
        "id": "view-in-github",
        "colab_type": "text"
      },
      "source": [
        "<a href=\"https://colab.research.google.com/github/Facco-Bruno/Alura-ML/blob/Master/ML_com_classificacao_parte_6.ipynb\" target=\"_parent\"><img src=\"https://colab.research.google.com/assets/colab-badge.svg\" alt=\"Open In Colab\"/></a>"
      ]
    },
    {
      "cell_type": "markdown",
      "metadata": {
        "id": "zj9s2B-sJZ4L"
      },
      "source": [
        "### Importando dados "
      ]
    },
    {
      "cell_type": "code",
      "metadata": {
        "id": "0KE5Xlf0I0i8"
      },
      "source": [
        "import csv\n",
        "\n",
        "def carregar_acessos():\n",
        "    X = []\n",
        "    Y = []\n",
        "\n",
        "    arquivo = open('acesso.csv', 'r')\n",
        "    leitor = csv.reader(arquivo)\n",
        "\n",
        "    next(leitor)\n",
        "\n",
        "    for acessou_home,acessou_como_funciona,acessou_contato, comprou in leitor:\n",
        "\n",
        "        dado = [int(acessou_home),int(acessou_como_funciona),int(acessou_contato)]\n",
        "        X.append(dado)\n",
        "        Y.append(int(comprou))\n",
        "\n",
        "    return X, Y"
      ],
      "execution_count": null,
      "outputs": []
    },
    {
      "cell_type": "code",
      "metadata": {
        "id": "yjEGU3OwKE_Z"
      },
      "source": [
        "X, Y = carregar_acessos()"
      ],
      "execution_count": null,
      "outputs": []
    },
    {
      "cell_type": "code",
      "metadata": {
        "colab": {
          "base_uri": "https://localhost:8080/"
        },
        "id": "i7BI7wRjKqb5",
        "outputId": "a6ebc3ad-52b9-4fe6-85d9-72024b596a08"
      },
      "source": [
        "print(X)"
      ],
      "execution_count": null,
      "outputs": [
        {
          "output_type": "stream",
          "name": "stdout",
          "text": [
            "[[1, 1, 0], [1, 1, 0], [1, 1, 0], [1, 1, 0], [1, 1, 0], [1, 0, 1], [1, 1, 0], [1, 0, 1], [1, 1, 0], [1, 0, 1], [1, 1, 0], [1, 0, 1], [0, 0, 1], [0, 0, 1], [0, 0, 1], [0, 0, 1], [0, 0, 1], [0, 1, 0], [0, 0, 1], [0, 1, 0], [0, 0, 1], [0, 1, 0], [0, 0, 1], [0, 1, 0], [1, 0, 1], [1, 1, 1], [1, 1, 1], [1, 0, 1], [0, 1, 0], [0, 0, 1], [0, 1, 0], [1, 0, 1], [0, 0, 1], [1, 0, 1], [1, 0, 1], [1, 0, 1], [1, 0, 1], [0, 0, 1], [1, 1, 0], [1, 0, 1], [0, 1, 0], [0, 0, 1], [0, 1, 0], [1, 0, 1], [0, 0, 1], [0, 0, 1], [1, 0, 1], [1, 0, 1], [1, 1, 0], [1, 1, 0], [1, 1, 0], [1, 1, 0], [1, 0, 1], [1, 1, 0], [1, 0, 1], [1, 1, 0], [1, 0, 1], [1, 1, 0], [1, 0, 1], [0, 0, 1], [1, 0, 1], [0, 1, 0], [0, 0, 1], [0, 1, 0], [1, 0, 1], [0, 1, 1], [0, 0, 1], [1, 0, 1], [1, 0, 1], [1, 1, 0], [1, 1, 0], [0, 0, 1], [0, 0, 1], [0, 0, 1], [0, 0, 1], [0, 1, 0], [0, 0, 1], [0, 1, 0], [0, 0, 1], [1, 1, 0], [0, 0, 1], [0, 0, 1], [0, 0, 1], [1, 0, 1], [1, 0, 1], [1, 1, 0], [1, 1, 0], [0, 0, 1], [0, 0, 1], [1, 0, 1], [1, 0, 1], [1, 1, 0], [1, 1, 0], [0, 0, 1], [0, 0, 1], [1, 1, 1], [0, 0, 1], [0, 1, 0], [0, 0, 0]]\n"
          ]
        }
      ]
    },
    {
      "cell_type": "code",
      "metadata": {
        "colab": {
          "base_uri": "https://localhost:8080/"
        },
        "id": "bkrU5dkaKr9u",
        "outputId": "aa6c04b1-6bf6-4164-b36a-74eab967ae0a"
      },
      "source": [
        "print(Y)"
      ],
      "execution_count": null,
      "outputs": [
        {
          "output_type": "stream",
          "name": "stdout",
          "text": [
            "[0, 0, 0, 0, 0, 1, 0, 1, 0, 1, 1, 1, 0, 0, 0, 0, 0, 0, 0, 0, 0, 0, 0, 0, 1, 1, 1, 1, 0, 0, 0, 1, 0, 1, 1, 1, 1, 0, 0, 1, 0, 0, 0, 1, 0, 0, 1, 1, 0, 0, 0, 0, 1, 0, 1, 0, 1, 0, 1, 0, 1, 0, 0, 0, 1, 1, 0, 1, 1, 0, 0, 0, 0, 0, 0, 0, 0, 0, 0, 1, 0, 0, 0, 1, 1, 0, 0, 0, 0, 1, 1, 0, 0, 0, 0, 1, 0, 0, 0]\n"
          ]
        }
      ]
    },
    {
      "cell_type": "markdown",
      "metadata": {
        "id": "HqIwSCbOMgs3"
      },
      "source": [
        "### Testando Modelo"
      ]
    },
    {
      "cell_type": "code",
      "metadata": {
        "colab": {
          "base_uri": "https://localhost:8080/"
        },
        "id": "W6P34KwaMgbp",
        "outputId": "cc8ecef3-3386-4a0a-d2fa-cf6b85e1f495"
      },
      "source": [
        "from sklearn.naive_bayes import MultinomialNB\n",
        "\n",
        "modelo = MultinomialNB()\n",
        "modelo.fit(X, Y)"
      ],
      "execution_count": null,
      "outputs": [
        {
          "output_type": "execute_result",
          "data": {
            "text/plain": [
              "MultinomialNB()"
            ]
          },
          "metadata": {},
          "execution_count": 64
        }
      ]
    },
    {
      "cell_type": "code",
      "metadata": {
        "colab": {
          "base_uri": "https://localhost:8080/"
        },
        "id": "Z7jb7ON8P3pa",
        "outputId": "910a96cc-5aa9-4c6a-ac0a-f9e156678a59"
      },
      "source": [
        "print(modelo.predict([[1,0,1]]))"
      ],
      "execution_count": null,
      "outputs": [
        {
          "output_type": "stream",
          "name": "stdout",
          "text": [
            "[1]\n"
          ]
        }
      ]
    },
    {
      "cell_type": "code",
      "metadata": {
        "colab": {
          "base_uri": "https://localhost:8080/"
        },
        "id": "LvtOo0QNQUIG",
        "outputId": "f00aa4ad-f695-4c57-d546-374315a26463"
      },
      "source": [
        "print(modelo.predict([[1,0,1],[0,1,0]]))"
      ],
      "execution_count": null,
      "outputs": [
        {
          "output_type": "stream",
          "name": "stdout",
          "text": [
            "[1 0]\n"
          ]
        }
      ]
    },
    {
      "cell_type": "code",
      "metadata": {
        "colab": {
          "base_uri": "https://localhost:8080/"
        },
        "id": "d3-joY9JQWDH",
        "outputId": "7ea27032-d1b6-4e98-a6f4-b583ba5d89b3"
      },
      "source": [
        "print(modelo.predict([[1,0,1],[0,1,0],[1,0,0]]))"
      ],
      "execution_count": null,
      "outputs": [
        {
          "output_type": "stream",
          "name": "stdout",
          "text": [
            "[1 0 0]\n"
          ]
        }
      ]
    },
    {
      "cell_type": "code",
      "metadata": {
        "colab": {
          "base_uri": "https://localhost:8080/"
        },
        "id": "KHOk9uk4QV8g",
        "outputId": "d33d134c-c271-4563-ce75-de8f28f9dd23"
      },
      "source": [
        "print(modelo.predict([[1,0,1],[0,1,0],\n",
        "                     [1,0,0], [1,1,0]]))"
      ],
      "execution_count": null,
      "outputs": [
        {
          "output_type": "stream",
          "name": "stdout",
          "text": [
            "[1 0 0 0]\n"
          ]
        }
      ]
    },
    {
      "cell_type": "code",
      "metadata": {
        "colab": {
          "base_uri": "https://localhost:8080/"
        },
        "id": "f9uiqPItQZfJ",
        "outputId": "36f1cbab-3048-47b5-a31c-0d9342f396eb"
      },
      "source": [
        "print(modelo.predict([[1,0,1],[0,1,0],\n",
        "                     [1,0,0], [1,1,0], [1,1,1]]))"
      ],
      "execution_count": null,
      "outputs": [
        {
          "output_type": "stream",
          "name": "stdout",
          "text": [
            "[1 0 0 0 0]\n"
          ]
        }
      ]
    },
    {
      "cell_type": "code",
      "metadata": {
        "colab": {
          "base_uri": "https://localhost:8080/"
        },
        "id": "De9Xrv3eQnuK",
        "outputId": "ecb12f22-0cf5-4e53-ce12-f2fb62775569"
      },
      "source": [
        "# restante do código\n",
        "resultado = modelo.predict(X)\n",
        "\n",
        "diferencas = resultado - Y\n",
        "\n",
        "acertos = [d for d in diferencas if d == 0]\n",
        "total_de_acertos = len(acertos)\n",
        "total_de_elementos = len(X)\n",
        "\n",
        "taxa_de_acerto = 100.0 * total_de_acertos / total_de_elementos\n",
        "\n",
        "print(taxa_de_acerto)\n",
        "print(total_de_elementos)"
      ],
      "execution_count": null,
      "outputs": [
        {
          "output_type": "stream",
          "name": "stdout",
          "text": [
            "93.93939393939394\n",
            "99\n"
          ]
        }
      ]
    },
    {
      "cell_type": "code",
      "metadata": {
        "id": "8whOBoOHSpKB"
      },
      "source": [
        "treino_dados = X[:90]\n",
        "treino_marcacoes = Y[:90]\n",
        "\n",
        "teste_dados = X[-9:]\n",
        "teste_marcacoes = Y[-9:]"
      ],
      "execution_count": null,
      "outputs": []
    },
    {
      "cell_type": "code",
      "metadata": {
        "colab": {
          "base_uri": "https://localhost:8080/"
        },
        "id": "_qO9POIvSq_6",
        "outputId": "14a7f034-1d3e-4759-fada-175f49bc338a"
      },
      "source": [
        "modelo.fit(treino_dados, treino_marcacoes)"
      ],
      "execution_count": null,
      "outputs": [
        {
          "output_type": "execute_result",
          "data": {
            "text/plain": [
              "MultinomialNB()"
            ]
          },
          "metadata": {},
          "execution_count": 72
        }
      ]
    },
    {
      "cell_type": "code",
      "metadata": {
        "id": "km0GEqSoT3Pg"
      },
      "source": [
        "resultado = modelo.predict(teste_dados)"
      ],
      "execution_count": null,
      "outputs": []
    },
    {
      "cell_type": "code",
      "metadata": {
        "id": "DOTBYqjSUOoO"
      },
      "source": [
        "diferencas = resultado - teste_marcacoes"
      ],
      "execution_count": null,
      "outputs": []
    },
    {
      "cell_type": "code",
      "metadata": {
        "colab": {
          "base_uri": "https://localhost:8080/"
        },
        "id": "hN5qfWh1T44T",
        "outputId": "c3d0a466-9f0d-4f20-f6b2-cca54974309a"
      },
      "source": [
        "acertos = [d for d in diferencas if d == 0]\n",
        "total_de_acertos = len(acertos)\n",
        "total_de_elementos = len(teste_dados)\n",
        "\n",
        "taxa_de_acerto = 100.0 * total_de_acertos / total_de_elementos\n",
        "\n",
        "print(taxa_de_acerto)\n",
        "print(total_de_elementos)"
      ],
      "execution_count": null,
      "outputs": [
        {
          "output_type": "stream",
          "name": "stdout",
          "text": [
            "88.88888888888889\n",
            "9\n"
          ]
        }
      ]
    }
  ]
}