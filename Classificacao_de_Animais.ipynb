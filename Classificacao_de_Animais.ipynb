{
  "nbformat": 4,
  "nbformat_minor": 0,
  "metadata": {
    "colab": {
      "name": "Classificacao de Animais.ipynb",
      "provenance": [],
      "collapsed_sections": [],
      "authorship_tag": "ABX9TyNqaqR02wxhwxtPHUyOnrUt",
      "include_colab_link": true
    },
    "kernelspec": {
      "name": "python3",
      "display_name": "Python 3"
    },
    "language_info": {
      "name": "python"
    }
  },
  "cells": [
    {
      "cell_type": "markdown",
      "metadata": {
        "id": "view-in-github",
        "colab_type": "text"
      },
      "source": [
        "<a href=\"https://colab.research.google.com/github/Facco-Bruno/Alura-ML/blob/Master/Classificacao_de_Animais.ipynb\" target=\"_parent\"><img src=\"https://colab.research.google.com/assets/colab-badge.svg\" alt=\"Open In Colab\"/></a>"
      ]
    },
    {
      "cell_type": "markdown",
      "metadata": {
        "id": "6DXOxEhKlGPj"
      },
      "source": [
        "### CLASSIFICAÇÃO ENTRE PORCO E CACHORRO"
      ]
    },
    {
      "cell_type": "code",
      "metadata": {
        "id": "ZtOX889Wdzm7"
      },
      "source": [
        "# features (1 sim, 0 não)\n",
        "# pelo longo? \n",
        "# perna curta?\n",
        "# faz auau?\n",
        "porco1 = [0, 1, 0]\n",
        "porco2 = [0, 1, 1]\n",
        "porco3 = [1, 1, 0]\n",
        "\n",
        "cachorro1 = [0, 1, 1]\n",
        "cachorro2 = [1, 0, 1]\n",
        "cachorro3 = [1, 1, 1]\n",
        "\n",
        "#porco -> 1 cachorro -> 0\n",
        "\n",
        "treino_x = [porco1, porco2, porco3, cachorro1, cachorro2, cachorro3]\n",
        "treino_y = [1,1,1,0,0,0]"
      ],
      "execution_count": 1,
      "outputs": []
    },
    {
      "cell_type": "code",
      "metadata": {
        "colab": {
          "base_uri": "https://localhost:8080/"
        },
        "id": "vHTj3YhylKQy",
        "outputId": "6ccb110a-b086-48df-dd0a-492780e92914"
      },
      "source": [
        "from sklearn.svm import LinearSVC\n",
        "\n",
        "model = LinearSVC()\n",
        "model.fit(treino_x, treino_y)"
      ],
      "execution_count": 2,
      "outputs": [
        {
          "output_type": "execute_result",
          "data": {
            "text/plain": [
              "LinearSVC()"
            ]
          },
          "metadata": {},
          "execution_count": 2
        }
      ]
    },
    {
      "cell_type": "code",
      "metadata": {
        "colab": {
          "base_uri": "https://localhost:8080/"
        },
        "id": "Ny3WMo_CmYN6",
        "outputId": "631926ac-6c20-49eb-b5bd-3dd8f1edfe30"
      },
      "source": [
        "animal_misterioso = [1,1,1]\n",
        "model.predict([animal_misterioso]) #recebe uma array de 2 dimensões"
      ],
      "execution_count": 3,
      "outputs": [
        {
          "output_type": "execute_result",
          "data": {
            "text/plain": [
              "array([0])"
            ]
          },
          "metadata": {},
          "execution_count": 3
        }
      ]
    },
    {
      "cell_type": "markdown",
      "metadata": {
        "id": "WUpWLBCFmsSr"
      },
      "source": [
        "Preveu que era um cachorro"
      ]
    },
    {
      "cell_type": "code",
      "metadata": {
        "id": "2lW4du8LmvL6"
      },
      "source": [
        "misterio1 = [1,1,1]\n",
        "misterio2 = [1,1,0]\n",
        "misterio3 = [0,1,1]\n",
        "\n",
        "teste_x = [misterio1, misterio2, misterio3]\n",
        "teste_y = [0, 1, 1]"
      ],
      "execution_count": 4,
      "outputs": []
    },
    {
      "cell_type": "code",
      "metadata": {
        "id": "U0sfk7pGm4v6"
      },
      "source": [
        "previsoes = model.predict(teste_x)"
      ],
      "execution_count": 5,
      "outputs": []
    },
    {
      "cell_type": "code",
      "metadata": {
        "colab": {
          "base_uri": "https://localhost:8080/"
        },
        "id": "9CWFexKEnQXy",
        "outputId": "e17e2073-2572-4d27-bbd8-d25cede07098"
      },
      "source": [
        "previsoes"
      ],
      "execution_count": 6,
      "outputs": [
        {
          "output_type": "execute_result",
          "data": {
            "text/plain": [
              "array([0, 1, 0])"
            ]
          },
          "metadata": {},
          "execution_count": 6
        }
      ]
    },
    {
      "cell_type": "markdown",
      "metadata": {
        "id": "YyaGeIpJnDIy"
      },
      "source": [
        "O correto seria [0, 1, 1]"
      ]
    },
    {
      "cell_type": "code",
      "metadata": {
        "id": "DM8DaJQGnSw6"
      },
      "source": [
        "corretos = (previsoes == teste_y).sum()"
      ],
      "execution_count": 7,
      "outputs": []
    },
    {
      "cell_type": "code",
      "metadata": {
        "colab": {
          "base_uri": "https://localhost:8080/"
        },
        "id": "48KfBy1SnlM6",
        "outputId": "6d03a207-faab-4b88-b0f6-3fa1a245d39d"
      },
      "source": [
        "total = len(teste_x)\n",
        "acertos = (corretos/total)*100\n",
        "print(acertos)"
      ],
      "execution_count": 8,
      "outputs": [
        {
          "output_type": "stream",
          "name": "stdout",
          "text": [
            "66.66666666666666\n"
          ]
        }
      ]
    },
    {
      "cell_type": "code",
      "metadata": {
        "id": "rIyJgEf-n7CL"
      },
      "source": [
        "from sklearn.metrics import accuracy_score"
      ],
      "execution_count": 9,
      "outputs": []
    },
    {
      "cell_type": "code",
      "metadata": {
        "id": "Dhnp5elgoChs"
      },
      "source": [
        "taxa_acerto = accuracy_score(teste_y, previsoes) "
      ],
      "execution_count": 10,
      "outputs": []
    },
    {
      "cell_type": "code",
      "metadata": {
        "colab": {
          "base_uri": "https://localhost:8080/"
        },
        "id": "d6tQH7uzoUrC",
        "outputId": "8ed15352-c1e8-4bfd-a061-9ef59413bb53"
      },
      "source": [
        "print(taxa_acerto*100)"
      ],
      "execution_count": 11,
      "outputs": [
        {
          "output_type": "stream",
          "name": "stdout",
          "text": [
            "66.66666666666666\n"
          ]
        }
      ]
    }
  ]
}