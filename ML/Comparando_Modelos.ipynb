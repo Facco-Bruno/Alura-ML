{
  "nbformat": 4,
  "nbformat_minor": 0,
  "metadata": {
    "colab": {
      "name": "Comparando Modelos.ipynb",
      "provenance": [],
      "collapsed_sections": [],
      "authorship_tag": "ABX9TyPVsc8FYdZrRCtBR+Dp7Xdv",
      "include_colab_link": true
    },
    "kernelspec": {
      "name": "python3",
      "display_name": "Python 3"
    },
    "language_info": {
      "name": "python"
    }
  },
  "cells": [
    {
      "cell_type": "markdown",
      "metadata": {
        "id": "view-in-github",
        "colab_type": "text"
      },
      "source": [
        "<a href=\"https://colab.research.google.com/github/Facco-Bruno/Alura-ML/blob/Master/Comparando_Modelos.ipynb\" target=\"_parent\"><img src=\"https://colab.research.google.com/assets/colab-badge.svg\" alt=\"Open In Colab\"/></a>"
      ]
    },
    {
      "cell_type": "code",
      "source": [
        "import pandas as pd\n",
        "from collections import Counter\n",
        "\n",
        "# teste inicial: home, busca, logado => comprou\n",
        "# home, busca\n",
        "# home, logado\n",
        "# busca, logado\n",
        "# busca: 85,71% (7 testes)\n",
        "\n",
        "df = pd.read_csv('buscas.csv')\n",
        "X_df = df[['home','busca', 'logado']]\n",
        "Y_df = df['comprou']\n",
        "\n",
        "Xdummies_df = pd.get_dummies(X_df)\n",
        "Ydummies_df = Y_df\n",
        "\n",
        "X = Xdummies_df.values\n",
        "Y = Ydummies_df.values \n",
        "\n",
        "porcentagem_de_treino = 0.8\n",
        "porcentagem_de_teste = 0.1\n",
        "\n",
        "tamanho_de_treino = int(porcentagem_de_treino * len(Y))\n",
        "tamanho_de_teste = int(porcentagem_de_teste * len(Y))\n",
        "tamanho_de_validacao = len(Y) - tamanho_de_treino - tamanho_de_teste\n",
        "\n",
        "treino_dados = X[:tamanho_de_treino]\n",
        "treino_marcacoes = Y[:tamanho_de_treino]\n",
        "\n",
        "fim_de_teste = tamanho_de_treino + tamanho_de_teste\n",
        "\n",
        "teste_dados = X[tamanho_de_treino:fim_de_teste]\n",
        "teste_marcacoes = Y[tamanho_de_treino:fim_de_teste]\n",
        "\n",
        "validacao_dados = X[fim_de_teste:]\n",
        "validacao_marcacoes = Y[fim_de_teste:]\n",
        "\n",
        "\n",
        "def fit_and_predict(nome, modelo, treino_dados, treino_marcacoes, teste_dados, teste_marcacoes):\n",
        "    modelo.fit(treino_dados, treino_marcacoes)\n",
        "\n",
        "    resultado = modelo.predict(teste_dados)\n",
        "\n",
        "    acertos = resultado == teste_marcacoes\n",
        "\n",
        "    total_de_acertos = sum(acertos)\n",
        "    total_de_elementos = len(teste_dados)\n",
        "\n",
        "    taxa_de_acerto = 100.0 * total_de_acertos / total_de_elementos\n",
        "\n",
        "    msg = \"Taxa de acerto do algoritmo {0}: {1}\".format(nome, taxa_de_acerto)\n",
        "\n",
        "    print(msg)\n",
        "    return taxa_de_acerto\n",
        "\n",
        "def teste_real(modelo, validacao_dados, validacao_marcacoes):\n",
        "    resultado = modelo.predict(validacao_dados)\n",
        "    acertos = resultado == validacao_marcacoes\n",
        "\n",
        "    total_de_acertos = sum(acertos)\n",
        "    total_de_elementos = len(validacao_marcacoes)\n",
        "\n",
        "    taxa_de_acerto = 100.0 * total_de_acertos / total_de_elementos\n",
        "\n",
        "    msg = \"Taxa de acerto do vencedor entre os dois algoritmos no mundo real: {0}\".format(taxa_de_acerto)\n",
        "    print(msg)\n",
        "\n",
        "from sklearn.naive_bayes import MultinomialNB\n",
        "modeloMultinomial = MultinomialNB()\n",
        "resultadoMultinomial = fit_and_predict(\"MultinomialNB\", modeloMultinomial, treino_dados, treino_marcacoes, teste_dados, teste_marcacoes)\n",
        "\n",
        "from sklearn.ensemble import AdaBoostClassifier\n",
        "modeloAdaBoost = AdaBoostClassifier()\n",
        "resultadoAdaBoost = fit_and_predict(\"AdaBoostClassifier\", modeloAdaBoost, treino_dados, treino_marcacoes, teste_dados, teste_marcacoes)\n",
        "\n",
        "if resultadoMultinomial > resultadoAdaBoost:\n",
        "    vencedor = modeloMultinomial\n",
        "else:\n",
        "    vencedor = modeloAdaBoost\n",
        "\n",
        "teste_real(vencedor, validacao_dados, validacao_marcacoes)\n",
        "\n",
        "acerto_base = max(Counter(validacao_marcacoes).values())\n",
        "taxa_de_acerto_base = 100.0 * acerto_base / len(validacao_marcacoes)\n",
        "print(\"Taxa de acerto base: %f\" % taxa_de_acerto_base)\n",
        "\n",
        "total_de_elementos = len(validacao_dados)\n",
        "print(\"Total de teste: %d\" % total_de_elementos)\n",
        "\n",
        "print(\"Algoritmo Vencedor: %s\" %vencedor)"
      ],
      "metadata": {
        "colab": {
          "base_uri": "https://localhost:8080/"
        },
        "id": "EESDJfYa77IS",
        "outputId": "6bc17558-968a-41c2-9028-3b7f0eab671d"
      },
      "execution_count": 13,
      "outputs": [
        {
          "output_type": "stream",
          "name": "stdout",
          "text": [
            "Taxa de acerto do algoritmo MultinomialNB: 82.0\n",
            "Taxa de acerto do algoritmo AdaBoostClassifier: 84.0\n",
            "Taxa de acerto do vencedor entre os dois algoritmos no mundo real: 85.0\n",
            "Taxa de acerto base: 82.000000\n",
            "Total de teste: 100\n",
            "Algoritmo Vencedor: AdaBoostClassifier()\n"
          ]
        }
      ]
    }
  ]
}