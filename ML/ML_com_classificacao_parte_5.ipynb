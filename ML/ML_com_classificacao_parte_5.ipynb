{
  "nbformat": 4,
  "nbformat_minor": 0,
  "metadata": {
    "colab": {
      "name": "ML com classificacao parte 5.ipynb",
      "provenance": [],
      "authorship_tag": "ABX9TyNgRI1DNycUY88sli4Dx88K",
      "include_colab_link": true
    },
    "kernelspec": {
      "name": "python3",
      "display_name": "Python 3"
    },
    "language_info": {
      "name": "python"
    }
  },
  "cells": [
    {
      "cell_type": "markdown",
      "metadata": {
        "id": "view-in-github",
        "colab_type": "text"
      },
      "source": [
        "<a href=\"https://colab.research.google.com/github/Facco-Bruno/Alura-ML/blob/Master/ML_com_classificacao_parte_5.ipynb\" target=\"_parent\"><img src=\"https://colab.research.google.com/assets/colab-badge.svg\" alt=\"Open In Colab\"/></a>"
      ]
    },
    {
      "cell_type": "code",
      "metadata": {
        "id": "IFOxNe1e6nTP"
      },
      "source": [
        "# features (1 sim, 0 não)\n",
        "# pelo longo? \n",
        "# perna curta?\n",
        "# faz auau?\n",
        "porco1 = [1, 1, 0]\n",
        "porco2 = [1, 1, 0]\n",
        "porco3 = [1, 1, 0]\n",
        "\n",
        "cachorro1 = [1, 1, 1]\n",
        "cachorro2 = [0, 1, 1]\n",
        "cachorro3 = [0, 1, 1]\n",
        "\n",
        "#porco -> 1 cachorro -> 0\n",
        "\n",
        "treino_x = [porco1, porco2, porco3, cachorro1, cachorro2, cachorro3]\n",
        "treino_y = [1, 1, 1, 0, 0, 0]"
      ],
      "execution_count": null,
      "outputs": []
    },
    {
      "cell_type": "code",
      "metadata": {
        "id": "41DEBOFM7bKC"
      },
      "source": [
        "misterioso = [1, 1, 1]"
      ],
      "execution_count": null,
      "outputs": []
    },
    {
      "cell_type": "code",
      "metadata": {
        "colab": {
          "base_uri": "https://localhost:8080/"
        },
        "id": "DqMoUifL7dMk",
        "outputId": "7d01dec4-5e0b-4f2c-c730-6637e776825e"
      },
      "source": [
        "from sklearn.naive_bayes import MultinomialNB\n",
        "\n",
        "modelo = MultinomialNB()\n",
        "modelo.fit(treino_x, treino_y)\n",
        "modelo.predict([misterioso])"
      ],
      "execution_count": null,
      "outputs": [
        {
          "output_type": "execute_result",
          "data": {
            "text/plain": [
              "array([0])"
            ]
          },
          "metadata": {},
          "execution_count": 10
        }
      ]
    },
    {
      "cell_type": "code",
      "metadata": {
        "id": "vzBa0YDl7hZS"
      },
      "source": [
        "misterioso2 = [1, 0, 0]"
      ],
      "execution_count": null,
      "outputs": []
    },
    {
      "cell_type": "code",
      "metadata": {
        "colab": {
          "base_uri": "https://localhost:8080/"
        },
        "id": "-RU9C55d7zOn",
        "outputId": "24175103-5fe2-4311-ecd2-ac6bdc54aa9b"
      },
      "source": [
        "modelo.predict([misterioso2])"
      ],
      "execution_count": null,
      "outputs": [
        {
          "output_type": "execute_result",
          "data": {
            "text/plain": [
              "array([1])"
            ]
          },
          "metadata": {},
          "execution_count": 12
        }
      ]
    },
    {
      "cell_type": "code",
      "metadata": {
        "id": "naFCu0Vt73XG"
      },
      "source": [
        "misterioso1 = [1, 1, 1]\n",
        "misterioso2 = [1, 0, 0]\n",
        "\n",
        "teste = [misterioso1, misterioso2]"
      ],
      "execution_count": null,
      "outputs": []
    },
    {
      "cell_type": "code",
      "metadata": {
        "colab": {
          "base_uri": "https://localhost:8080/"
        },
        "id": "jkZZUUDd75DL",
        "outputId": "938718b6-8f59-4960-dc01-7f1846f7f5fb"
      },
      "source": [
        "print(modelo.predict(teste))"
      ],
      "execution_count": null,
      "outputs": [
        {
          "output_type": "stream",
          "name": "stdout",
          "text": [
            "[0 1]\n"
          ]
        }
      ]
    },
    {
      "cell_type": "code",
      "metadata": {
        "id": "SP59DFDLDBrL"
      },
      "source": [
        "# [é gordinho?, tem perninha curta?, faz auau?]\n",
        "misterioso1 = [1, 1, 1]\n",
        "misterioso2 = [1, 0, 0]\n",
        "misterioso3 = [0, 0, 1]\n",
        "\n",
        "teste = [misterioso1, misterioso2, misterioso3]"
      ],
      "execution_count": null,
      "outputs": []
    },
    {
      "cell_type": "code",
      "metadata": {
        "id": "NW5g1IiRDDGC"
      },
      "source": [
        "marcacoes_teste = [0, 1, 0]"
      ],
      "execution_count": null,
      "outputs": []
    },
    {
      "cell_type": "code",
      "metadata": {
        "colab": {
          "base_uri": "https://localhost:8080/"
        },
        "id": "zlZvnaQvDHHR",
        "outputId": "357a7291-3e04-4990-ea4d-ce5b9240d76e"
      },
      "source": [
        "resultado = modelo.predict(teste)\n",
        "print(resultado)"
      ],
      "execution_count": null,
      "outputs": [
        {
          "output_type": "stream",
          "name": "stdout",
          "text": [
            "[0 1 0]\n"
          ]
        }
      ]
    },
    {
      "cell_type": "code",
      "metadata": {
        "colab": {
          "base_uri": "https://localhost:8080/"
        },
        "id": "UHJ_0c2TDZuc",
        "outputId": "b379e4d6-bf58-402f-d6cb-455dcc90640c"
      },
      "source": [
        "print(resultado - marcacoes_teste)"
      ],
      "execution_count": null,
      "outputs": [
        {
          "output_type": "stream",
          "name": "stdout",
          "text": [
            "[0 0 0]\n"
          ]
        }
      ]
    },
    {
      "cell_type": "code",
      "metadata": {
        "colab": {
          "base_uri": "https://localhost:8080/"
        },
        "id": "yYmP0rVXDk94",
        "outputId": "50f17a1a-b3a9-44d4-be18-f1d818729886"
      },
      "source": [
        "diferencas = resultado - marcacoes_teste\n",
        "\n",
        "acertos = [d for d in diferencas if d == 0]\n",
        "\n",
        "total_de_acertos = len(acertos)\n",
        "total_de_elementos = len(teste)\n",
        "\n",
        "taxa_de_acerto = 100.0 * total_de_acertos / total_de_elementos\n",
        "\n",
        "print(resultado)\n",
        "print(diferencas)\n",
        "print(taxa_de_acerto)"
      ],
      "execution_count": null,
      "outputs": [
        {
          "output_type": "stream",
          "name": "stdout",
          "text": [
            "[0 1 0]\n",
            "[0 0 0]\n",
            "100.0\n"
          ]
        }
      ]
    },
    {
      "cell_type": "code",
      "metadata": {
        "id": "lkHcCEOHDobt"
      },
      "source": [
        "misterioso1 = [1, 1, 1]\n",
        "misterioso2 = [1, 0, 0]\n",
        "misterioso3 = [0, 0, 1]\n",
        "\n",
        "teste = [misterioso1, misterioso2, misterioso3]\n",
        "\n",
        "marcacoes_teste = [0, 1, 1]"
      ],
      "execution_count": null,
      "outputs": []
    },
    {
      "cell_type": "code",
      "metadata": {
        "colab": {
          "base_uri": "https://localhost:8080/"
        },
        "id": "aCKPhxv7Du-0",
        "outputId": "bd868564-b273-4af7-b30b-7f1dc0fe9f22"
      },
      "source": [
        "resultado = modelo.predict(teste)\n",
        "print(resultado)"
      ],
      "execution_count": null,
      "outputs": [
        {
          "output_type": "stream",
          "name": "stdout",
          "text": [
            "[0 1 0]\n"
          ]
        }
      ]
    },
    {
      "cell_type": "code",
      "metadata": {
        "id": "aeo1o6GsD1Zx",
        "colab": {
          "base_uri": "https://localhost:8080/"
        },
        "outputId": "89be8b41-930b-45dd-95ee-63ad1d9e818a"
      },
      "source": [
        "diferencas = resultado - marcacoes_teste\n",
        "\n",
        "acertos = [d for d in diferencas if d == 0]\n",
        "\n",
        "total_de_acertos = len(acertos)\n",
        "total_de_elementos = len(teste)\n",
        "\n",
        "taxa_de_acerto = 100.0 * total_de_acertos / total_de_elementos\n",
        "\n",
        "print(resultado)\n",
        "print(diferencas)\n",
        "print(taxa_de_acerto)"
      ],
      "execution_count": null,
      "outputs": [
        {
          "output_type": "stream",
          "name": "stdout",
          "text": [
            "[0 1 0]\n",
            "[ 0  0 -1]\n",
            "66.66666666666667\n"
          ]
        }
      ]
    }
  ]
}